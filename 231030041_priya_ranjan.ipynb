{
 "cells": [
  {
   "cell_type": "markdown",
   "id": "4ba11619",
   "metadata": {},
   "source": [
    "# Assignment 4 \n",
    "### Name : Priya Ranjan Kumar\n",
    "### Roll No : 231030041"
   ]
  },
  {
   "cell_type": "code",
   "execution_count": 13,
   "id": "a4bb3b78",
   "metadata": {},
   "outputs": [],
   "source": [
    "# Loading packages \n",
    "import numpy as np\n",
    "import pandas as pd\n"
   ]
  },
  {
   "cell_type": "markdown",
   "id": "cdd772b3",
   "metadata": {},
   "source": [
    "# Question 1"
   ]
  },
  {
   "cell_type": "code",
   "execution_count": 44,
   "id": "759cf318",
   "metadata": {},
   "outputs": [
    {
     "name": "stdout",
     "output_type": "stream",
     "text": [
      "[[4. 4. 4. ... 4. 4. 4.]\n",
      " [4. 4. 4. ... 4. 4. 4.]\n",
      " [4. 4. 4. ... 4. 4. 4.]\n",
      " ...\n",
      " [4. 4. 4. ... 4. 4. 4.]\n",
      " [4. 4. 4. ... 4. 4. 4.]\n",
      " [4. 4. 4. ... 4. 4. 4.]]\n"
     ]
    }
   ],
   "source": [
    "#(a)\n",
    "# Define the dimensions of the array\n",
    "width = 72\n",
    "height = 72\n",
    "frames = 150\n",
    "\n",
    "# Create an 3D array\n",
    "df = np.zeros((width, height, frames))\n",
    "\n",
    "# Fill the values of the array\n",
    "for i in range(frames):\n",
    "    df[:, :, i] = i\n",
    "\n",
    "# Show the output of data[:, :, 4]\n",
    "print(df[:, :, 4])\n"
   ]
  },
  {
   "cell_type": "code",
   "execution_count": 45,
   "id": "3e65412d",
   "metadata": {},
   "outputs": [
    {
     "name": "stdout",
     "output_type": "stream",
     "text": [
      "[[2. 2. 2. ... 2. 2. 2.]\n",
      " [2. 2. 2. ... 2. 2. 2.]\n",
      " [2. 2. 2. ... 2. 2. 2.]\n",
      " ...\n",
      " [2. 2. 2. ... 2. 2. 2.]\n",
      " [2. 2. 2. ... 2. 2. 2.]\n",
      " [2. 2. 2. ... 2. 2. 2.]]\n",
      "Shape of Background Frame: (72, 72)\n"
     ]
    }
   ],
   "source": [
    "#(b)\n",
    "\n",
    "background = np.mean(d[:, :, :5], axis=2)\n",
    "\n",
    "# Show the output \n",
    "print(background)\n",
    "print(\"Shape of Background Frame:\", background.shape)\n"
   ]
  },
  {
   "cell_type": "code",
   "execution_count": 47,
   "id": "481757ab",
   "metadata": {},
   "outputs": [
    {
     "name": "stdout",
     "output_type": "stream",
     "text": [
      "noise_e[:,:,0]:\n",
      "[[-2. -2. -2. ... -2. -2. -2.]\n",
      " [-2. -2. -2. ... -2. -2. -2.]\n",
      " [-2. -2. -2. ... -2. -2. -2.]\n",
      " ...\n",
      " [-2. -2. -2. ... -2. -2. -2.]\n",
      " [-2. -2. -2. ... -2. -2. -2.]\n",
      " [-2. -2. -2. ... -2. -2. -2.]]\n",
      "noise_e[:,:,5]:\n",
      "[[3. 3. 3. ... 3. 3. 3.]\n",
      " [3. 3. 3. ... 3. 3. 3.]\n",
      " [3. 3. 3. ... 3. 3. 3.]\n",
      " ...\n",
      " [3. 3. 3. ... 3. 3. 3.]\n",
      " [3. 3. 3. ... 3. 3. 3.]\n",
      " [3. 3. 3. ... 3. 3. 3.]]\n"
     ]
    }
   ],
   "source": [
    "#(c)\n",
    "# Replicate the frame\n",
    "background_rp = np.tile(background[:,:,np.newaxis],(1,1,num_frames))\n",
    "\n",
    "# Subtract the replicated background from each frame in data\n",
    "noise_e = data - background_rp\n",
    "\n",
    "# Show the output of noise_elim[:, :, 0], noise_elim[:, :, 5], and its shape\n",
    "print(\"noise_e[:,:,0]:\")\n",
    "print(noise_e[:,:,0])\n",
    "print(\"noise_e[:,:,5]:\")\n",
    "print(noise_e[:,:,5])"
   ]
  },
  {
   "cell_type": "code",
   "execution_count": 51,
   "id": "6f2be7de",
   "metadata": {},
   "outputs": [
    {
     "name": "stdout",
     "output_type": "stream",
     "text": [
      "average_temperature:\n",
      "[  0.   1.   2.   3.   4.   5.   6.   7.   8.   9.  10.  11.  12.  13.\n",
      "  14.  15.  16.  17.  18.  19.  20.  21.  22.  23.  24.  25.  26.  27.\n",
      "  28.  29.  30.  31.  32.  33.  34.  35.  36.  37.  38.  39.  40.  41.\n",
      "  42.  43.  44.  45.  46.  47.  48.  49.  50.  51.  52.  53.  54.  55.\n",
      "  56.  57.  58.  59.  60.  61.  62.  63.  64.  65.  66.  67.  68.  69.\n",
      "  70.  71.  72.  73.  74.  75.  76.  77.  78.  79.  80.  81.  82.  83.\n",
      "  84.  85.  86.  87.  88.  89.  90.  91.  92.  93.  94.  95.  96.  97.\n",
      "  98.  99. 100. 101. 102. 103. 104. 105. 106. 107. 108. 109. 110. 111.\n",
      " 112. 113. 114. 115. 116. 117. 118. 119. 120. 121. 122. 123. 124. 125.\n",
      " 126. 127. 128. 129. 130. 131. 132. 133. 134. 135. 136. 137. 138. 139.\n",
      " 140. 141. 142. 143. 144. 145. 146. 147. 148. 149.]\n"
     ]
    }
   ],
   "source": [
    "#(d)\n",
    "# Calculate the average temperature\n",
    "avg_temperature = np.mean(data, axis=(0, 1))\n",
    "\n",
    "# Show the output of the array avg_temperate\n",
    "print(\"average_temperature:\")\n",
    "print(avg_temperature)"
   ]
  },
  {
   "cell_type": "code",
   "execution_count": 52,
   "id": "191bb3e1",
   "metadata": {},
   "outputs": [
    {
     "name": "stdout",
     "output_type": "stream",
     "text": [
      "Index of Frame with Maximum Average Temperature: 149\n",
      "Frame with Maximum Average Temperature (data[:, :, max_frame]):\n",
      "[[149. 149. 149. ... 149. 149. 149.]\n",
      " [149. 149. 149. ... 149. 149. 149.]\n",
      " [149. 149. 149. ... 149. 149. 149.]\n",
      " ...\n",
      " [149. 149. 149. ... 149. 149. 149.]\n",
      " [149. 149. 149. ... 149. 149. 149.]\n",
      " [149. 149. 149. ... 149. 149. 149.]]\n"
     ]
    }
   ],
   "source": [
    "#(e)\n",
    "# Find position of the maximum average temperature\n",
    "max_frame_i = np.argmax(avg_temperature)\n",
    "\n",
    "max_frame_c = data[:, :, max_frame_i]\n",
    "\n",
    "# Show the index of the frame with maximum average temperature\n",
    "print(\"Index of Frame with Maximum Average Temperature:\", max_frame_i)\n",
    "\n",
    "# Show the frame with maximum average temperature\n",
    "print(\"Frame with Maximum Average Temperature (data[:, :, max_frame]):\")\n",
    "print(max_frame_c)\n"
   ]
  },
  {
   "cell_type": "code",
   "execution_count": 53,
   "id": "ecf4e324",
   "metadata": {},
   "outputs": [
    {
     "name": "stdout",
     "output_type": "stream",
     "text": [
      "5th frame of data_in:\n",
      " [[2. 2. 2. ... 2. 2. 2.]\n",
      " [2. 2. 2. ... 2. 2. 2.]\n",
      " [2. 2. 2. ... 2. 2. 2.]\n",
      " ...\n",
      " [2. 2. 2. ... 2. 2. 2.]\n",
      " [2. 2. 2. ... 2. 2. 2.]\n",
      " [2. 2. 2. ... 2. 2. 2.]]\n",
      "5th frame of data_ip:\n",
      " [[2. 2. 2. ... 2. 2. 2.]\n",
      " [2. 2. 2. ... 2. 2. 2.]\n",
      " [2. 2. 2. ... 2. 2. 2.]\n",
      " ...\n",
      " [2. 2. 2. ... 2. 2. 2.]\n",
      " [2. 2. 2. ... 2. 2. 2.]\n",
      " [2. 2. 2. ... 2. 2. 2.]]\n",
      "5th frame of data_jn:\n",
      " [[2. 2. 2. ... 2. 2. 2.]\n",
      " [2. 2. 2. ... 2. 2. 2.]\n",
      " [2. 2. 2. ... 2. 2. 2.]\n",
      " ...\n",
      " [2. 2. 2. ... 2. 2. 2.]\n",
      " [2. 2. 2. ... 2. 2. 2.]\n",
      " [2. 2. 2. ... 2. 2. 2.]]\n",
      "5th frame of data_jp:\n",
      " [[2. 2. 2. ... 2. 2. 2.]\n",
      " [2. 2. 2. ... 2. 2. 2.]\n",
      " [2. 2. 2. ... 2. 2. 2.]\n",
      " ...\n",
      " [2. 2. 2. ... 2. 2. 2.]\n",
      " [2. 2. 2. ... 2. 2. 2.]\n",
      " [2. 2. 2. ... 2. 2. 2.]]\n",
      "5th frame of data_ij:\n",
      " [[1. 1. 1. ... 1. 1. 1.]\n",
      " [1. 1. 1. ... 1. 1. 1.]\n",
      " [1. 1. 1. ... 1. 1. 1.]\n",
      " ...\n",
      " [1. 1. 1. ... 1. 1. 1.]\n",
      " [1. 1. 1. ... 1. 1. 1.]\n",
      " [1. 1. 1. ... 1. 1. 1.]]\n"
     ]
    }
   ],
   "source": [
    "#f-i\n",
    "# Create shifted versions of the data array for (i-1, j), (i, j-1), (i+1, j), (i, j+1), and (i, j)\n",
    "data_in = np.roll(noise_elim, shift=(-1, 0, 0), axis=(0, 1, 2))\n",
    "data_ip = np.roll(noise_elim, shift=(1, 0, 0), axis=(0, 1, 2))\n",
    "data_jn = np.roll(noise_elim, shift=(0, -1, 0), axis=(0, 1, 2))\n",
    "data_jp = np.roll(noise_elim, shift=(0, 1, 0), axis=(0, 1, 2))\n",
    "data_ij = np.roll(noise_elim, shift=(0, 0, 1), axis=(0, 1, 2))\n",
    "\n",
    "# Display the 5th frame of each of these 5 arrays\n",
    "print(\"5th frame of data_in:\\n\",data_in[:, :, 4])\n",
    "\n",
    "\n",
    "print(\"5th frame of data_ip:\\n\",data_ip[:, :, 4])\n",
    "\n",
    "\n",
    "print(\"5th frame of data_jn:\\n\",data_jn[:, :, 4])\n",
    "\n",
    "\n",
    "print(\"5th frame of data_jp:\\n\",data_jp[:, :, 4])\n",
    "\n",
    "\n",
    "print(\"5th frame of data_ij:\\n\",data_ij[:, :, 4])\n"
   ]
  },
  {
   "cell_type": "code",
   "execution_count": 54,
   "id": "68e36692",
   "metadata": {
    "scrolled": true
   },
   "outputs": [
    {
     "name": "stdout",
     "output_type": "stream",
     "text": [
      "[[[ 27.8  -1.2  -0.2 ... 144.8 145.8 146.8]\n",
      "  [ 27.8  -1.2  -0.2 ... 144.8 145.8 146.8]\n",
      "  [ 27.8  -1.2  -0.2 ... 144.8 145.8 146.8]\n",
      "  ...\n",
      "  [ 27.8  -1.2  -0.2 ... 144.8 145.8 146.8]\n",
      "  [ 27.8  -1.2  -0.2 ... 144.8 145.8 146.8]\n",
      "  [ 27.8  -1.2  -0.2 ... 144.8 145.8 146.8]]\n",
      "\n",
      " [[ 27.8  -1.2  -0.2 ... 144.8 145.8 146.8]\n",
      "  [ 27.8  -1.2  -0.2 ... 144.8 145.8 146.8]\n",
      "  [ 27.8  -1.2  -0.2 ... 144.8 145.8 146.8]\n",
      "  ...\n",
      "  [ 27.8  -1.2  -0.2 ... 144.8 145.8 146.8]\n",
      "  [ 27.8  -1.2  -0.2 ... 144.8 145.8 146.8]\n",
      "  [ 27.8  -1.2  -0.2 ... 144.8 145.8 146.8]]\n",
      "\n",
      " [[ 27.8  -1.2  -0.2 ... 144.8 145.8 146.8]\n",
      "  [ 27.8  -1.2  -0.2 ... 144.8 145.8 146.8]\n",
      "  [ 27.8  -1.2  -0.2 ... 144.8 145.8 146.8]\n",
      "  ...\n",
      "  [ 27.8  -1.2  -0.2 ... 144.8 145.8 146.8]\n",
      "  [ 27.8  -1.2  -0.2 ... 144.8 145.8 146.8]\n",
      "  [ 27.8  -1.2  -0.2 ... 144.8 145.8 146.8]]\n",
      "\n",
      " ...\n",
      "\n",
      " [[ 27.8  -1.2  -0.2 ... 144.8 145.8 146.8]\n",
      "  [ 27.8  -1.2  -0.2 ... 144.8 145.8 146.8]\n",
      "  [ 27.8  -1.2  -0.2 ... 144.8 145.8 146.8]\n",
      "  ...\n",
      "  [ 27.8  -1.2  -0.2 ... 144.8 145.8 146.8]\n",
      "  [ 27.8  -1.2  -0.2 ... 144.8 145.8 146.8]\n",
      "  [ 27.8  -1.2  -0.2 ... 144.8 145.8 146.8]]\n",
      "\n",
      " [[ 27.8  -1.2  -0.2 ... 144.8 145.8 146.8]\n",
      "  [ 27.8  -1.2  -0.2 ... 144.8 145.8 146.8]\n",
      "  [ 27.8  -1.2  -0.2 ... 144.8 145.8 146.8]\n",
      "  ...\n",
      "  [ 27.8  -1.2  -0.2 ... 144.8 145.8 146.8]\n",
      "  [ 27.8  -1.2  -0.2 ... 144.8 145.8 146.8]\n",
      "  [ 27.8  -1.2  -0.2 ... 144.8 145.8 146.8]]\n",
      "\n",
      " [[ 27.8  -1.2  -0.2 ... 144.8 145.8 146.8]\n",
      "  [ 27.8  -1.2  -0.2 ... 144.8 145.8 146.8]\n",
      "  [ 27.8  -1.2  -0.2 ... 144.8 145.8 146.8]\n",
      "  ...\n",
      "  [ 27.8  -1.2  -0.2 ... 144.8 145.8 146.8]\n",
      "  [ 27.8  -1.2  -0.2 ... 144.8 145.8 146.8]\n",
      "  [ 27.8  -1.2  -0.2 ... 144.8 145.8 146.8]]]\n",
      "Shape of the new image sequence: (72, 72, 150)\n",
      "Hottest frame index: 149\n"
     ]
    }
   ],
   "source": [
    "#(f-ii)\n",
    "# Calculate the average of the five arrays to create a new image sequence\n",
    "new_image_sequence = (data_in + data_ip + data_jn + data_jp + data_ij) / 5\n",
    "\n",
    "# Find the hottest frame index (index with the maximum average temperature)\n",
    "avg_temp = np.mean(new_image_sequence, axis=(0, 1))  # Calculate average temperature for each frame\n",
    "hottest_frame_index = np.argmax(avg_temp)  # Find the index of the hottest frame\n",
    "\n",
    "print(new_image_sequence)\n",
    "print(\"Shape of the new image sequence:\", new_image_sequence.shape)\n",
    "print(\"Hottest frame index:\", hottest_frame_index)"
   ]
  },
  {
   "cell_type": "markdown",
   "id": "21dfee95",
   "metadata": {},
   "source": [
    "# Question 2 "
   ]
  },
  {
   "cell_type": "code",
   "execution_count": 55,
   "id": "b1f0d815",
   "metadata": {},
   "outputs": [
    {
     "name": "stdout",
     "output_type": "stream",
     "text": [
      "Number of events : 27808\n"
     ]
    }
   ],
   "source": [
    "#a\n",
    "event = pd.read_csv('event_2019_nyc.csv')\n",
    "\n",
    "# Output the no. of events present in the dataset\n",
    "n_events = len(event)\n",
    "print(\"Number of events :\", n_events)\n"
   ]
  },
  {
   "cell_type": "code",
   "execution_count": 56,
   "id": "d077a3f1",
   "metadata": {},
   "outputs": [
    {
     "name": "stdout",
     "output_type": "stream",
     "text": [
      "Unique States in the Dataset:\n",
      "NJ\n",
      "NY\n",
      "PA\n",
      "CT\n",
      "\n",
      "Number of Events Reported in Each State:\n",
      "NY: 19527 events\n",
      "NJ: 8253 events\n",
      "CT: 26 events\n",
      "PA: 2 events\n"
     ]
    }
   ],
   "source": [
    "#(b)\n",
    "# Get unique states and their event counts\n",
    "unq_states = event['State'].unique()\n",
    "state_event_count = event['State'].value_counts()\n",
    "\n",
    "# Output the names of unique states\n",
    "print(\"Unique States in the Dataset:\")\n",
    "for state in unq_states:\n",
    "    print(state)\n",
    "\n",
    "# Output the number of events reported in each state\n",
    "print(\"\\nNumber of Events Reported in Each State:\")\n",
    "for state, count in state_event_counts.items():\n",
    "    print(f\"{state}: {count} events\")\n"
   ]
  },
  {
   "cell_type": "code",
   "execution_count": 43,
   "id": "7f7c0500",
   "metadata": {
    "scrolled": true
   },
   "outputs": [
    {
     "name": "stdout",
     "output_type": "stream",
     "text": [
      "          Create Time          Close Time  Event Duration\n",
      "0 2019-01-01 10:28:48 2019-01-01 10:31:45        0.049167\n",
      "1 2019-01-01 10:47:49 2019-01-01 11:09:05        0.354444\n",
      "2 2019-01-01 13:07:46 2019-01-01 14:02:49        0.917500\n",
      "3 2019-01-01 14:50:46 2019-01-01 16:32:56        1.702778\n",
      "4 2019-01-01 17:11:46 2019-01-01 18:25:44        1.232778\n"
     ]
    }
   ],
   "source": [
    "#(c)\n",
    "# Read the CSV file \n",
    "event = pd.read_csv('event_2019_nyc.csv')\n",
    "\n",
    "# Convert the \"Create Time\" and \"Close Time\" columns to datetime format\n",
    "event['Create Time'] = pd.to_datetime(event['Create Time'])\n",
    "event['Close Time'] = pd.to_datetime(event['Close Time'])\n",
    "\n",
    "# Calculate the \"Event Duration\" in hours\n",
    "event['Event Duration'] = (event['Close Time'] - event['Create Time']).dt.total_seconds() / 3600\n",
    "\n",
    "# output\n",
    "print(event[['Create Time', 'Close Time', 'Event Duration']].head())\n"
   ]
  },
  {
   "cell_type": "code",
   "execution_count": 58,
   "id": "4852d6d3",
   "metadata": {
    "scrolled": true
   },
   "outputs": [
    {
     "name": "stdout",
     "output_type": "stream",
     "text": [
      "1    4690\n",
      "2    3146\n",
      "3    4217\n",
      "7    5312\n",
      "8    5284\n",
      "9    5159\n",
      "Name: Month, dtype: int64\n",
      "\n",
      "Month with Maxm no. of event:\n",
      "Month 7 with 5312 events\n"
     ]
    }
   ],
   "source": [
    "#(d)\n",
    "# Convert the \"Create Time\" \n",
    "event['Create Time'] = pd.to_datetime(event['Create Time'])\n",
    "\n",
    "# Extract the month and save as new column \"Month\"\n",
    "event['Month'] = event['Create Time'].dt.month\n",
    "\n",
    "# Calculate the number of events in each month\n",
    "monthlyevent = event['Month'].value_counts().sort_index()\n",
    "\n",
    "# Output the number of events in each month\n",
    "print(monthlyevent)\n",
    "\n",
    "# Find the month with the maximum number of events\n",
    "max_month = monthly_event_counts.idxmax()\n",
    "max_event_count = monthlyevent.max()\n",
    "print(\"\\nMonth with Maxm no. of event:\")\n",
    "print(f\"Month {max_month} with {max_event_count} events\")\n"
   ]
  },
  {
   "cell_type": "code",
   "execution_count": null,
   "id": "ca2a42c3",
   "metadata": {},
   "outputs": [],
   "source": [
    "\n"
   ]
  }
 ],
 "metadata": {
  "kernelspec": {
   "display_name": "Python 3 (ipykernel)",
   "language": "python",
   "name": "python3"
  },
  "language_info": {
   "codemirror_mode": {
    "name": "ipython",
    "version": 3
   },
   "file_extension": ".py",
   "mimetype": "text/x-python",
   "name": "python",
   "nbconvert_exporter": "python",
   "pygments_lexer": "ipython3",
   "version": "3.11.4"
  }
 },
 "nbformat": 4,
 "nbformat_minor": 5
}
